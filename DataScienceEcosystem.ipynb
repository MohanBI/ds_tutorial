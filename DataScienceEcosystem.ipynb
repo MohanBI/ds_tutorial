{
  "nbformat": 4,
  "nbformat_minor": 0,
  "metadata": {
    "colab": {
      "provenance": []
    },
    "kernelspec": {
      "name": "python3",
      "display_name": "Python 3"
    },
    "language_info": {
      "name": "python"
    }
  },
  "cells": [
    {
      "cell_type": "markdown",
      "source": [
        "# Data Science Tools and Ecosystem"
      ],
      "metadata": {
        "id": "RJnfluE8qCUI"
      }
    },
    {
      "cell_type": "markdown",
      "source": [
        "In this notebook, Data Science Tools and Ecosystem are summarized."
      ],
      "metadata": {
        "id": "mQTtu89Jqzf2"
      }
    },
    {
      "cell_type": "markdown",
      "source": [
        "Some of the popular languages that Data Scientists use are:\n",
        "\n",
        "\n",
        "\n",
        "1.  Python\n",
        "2.  Java\n",
        "3.  SQL\n",
        "4.  R\n",
        "5.  Julia\n",
        "6.  Scala\n",
        "\n",
        "\n"
      ],
      "metadata": {
        "id": "9c00lkffrPho"
      }
    },
    {
      "cell_type": "markdown",
      "source": [
        "Some of the commonly used libraries used by Data Scientists include:\n",
        "\n",
        "1. TensorFlow\n",
        "2. NumPy\n",
        "3. SciPy \n",
        "4. Pandas\n",
        "5. Matplotlib \n",
        "6. Keras\n",
        "7. SciKit-Learn\n",
        "8. PyTorch"
      ],
      "metadata": {
        "id": "GPeIBrvFsbf3"
      }
    },
    {
      "cell_type": "markdown",
      "source": [
        "|Data Science Tools|\n",
        "|------------------|\n",
        "|Jupyter Notebooks|\n",
        "|Jupyter Lab|\n",
        "|Apache Zeppelin|\n",
        "|R Studio|\n",
        "|Spyder|\n",
        "|Apache Spark|\n",
        "|Apache Flink|\n",
        "|Ray|"
      ],
      "metadata": {
        "id": "SgxT9zjHtPEK"
      }
    },
    {
      "cell_type": "markdown",
      "source": [
        "### Below are a few examples of evaluating arithmetic expressions in Python"
      ],
      "metadata": {
        "id": "cUvbjK6CuxWd"
      }
    },
    {
      "cell_type": "code",
      "source": [
        "#This a simple arithmetic expression to mutiply then add integers\n",
        "(3*4)+5"
      ],
      "metadata": {
        "colab": {
          "base_uri": "https://localhost:8080/"
        },
        "id": "xmwqcCydvHTo",
        "outputId": "7358aa32-0525-4bb6-8e14-e2444f134d0e"
      },
      "execution_count": 1,
      "outputs": [
        {
          "output_type": "execute_result",
          "data": {
            "text/plain": [
              "17"
            ]
          },
          "metadata": {},
          "execution_count": 1
        }
      ]
    },
    {
      "cell_type": "code",
      "source": [
        "#This will convert 200 minutes to hours by diving by 60\n",
        "200/60"
      ],
      "metadata": {
        "colab": {
          "base_uri": "https://localhost:8080/"
        },
        "id": "uNxsS8f-veiC",
        "outputId": "07287123-dd73-45f9-b083-4865382bb1e8"
      },
      "execution_count": 6,
      "outputs": [
        {
          "output_type": "execute_result",
          "data": {
            "text/plain": [
              "3.3333333333333335"
            ]
          },
          "metadata": {},
          "execution_count": 6
        }
      ]
    },
    {
      "cell_type": "markdown",
      "source": [
        "**Objectives**\n",
        "\n",
        "\n",
        "- Python\n",
        "- Spark\n",
        "- SQL\n",
        "- R\n",
        "- Matlab\n",
        "- Scala\n",
        "- Java\n",
        "\n",
        "\n"
      ],
      "metadata": {
        "id": "JNUcHa5swE5A"
      }
    },
    {
      "cell_type": "markdown",
      "source": [
        "## Author\n",
        "Mohan Natarajan"
      ],
      "metadata": {
        "id": "FEEQy1jnxLBh"
      }
    }
  ]
}